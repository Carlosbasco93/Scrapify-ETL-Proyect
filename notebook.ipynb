{
 "cells": [
  {
   "cell_type": "markdown",
   "id": "55b5f7d4",
   "metadata": {},
   "source": [
    "# Scrapify-ETL-Proyect"
   ]
  },
  {
   "cell_type": "markdown",
   "id": "ff5f44ee",
   "metadata": {},
   "source": [
    "## Librerias"
   ]
  },
  {
   "cell_type": "code",
   "execution_count": 1,
   "id": "6bc5aa7e",
   "metadata": {},
   "outputs": [],
   "source": [
    "import pandas as pd\n",
    "import numpy as np\n",
    "import time\n",
    "from datetime import datetime\n",
    "from datetime import date\n",
    "from selenium.webdriver.chrome.options import Options\n",
    "from webdriver_manager.chrome import ChromeDriverManager\n",
    "from selenium import webdriver\n",
    "from selenium.webdriver.chrome.service import Service\n",
    "from selenium.webdriver.common.keys import Keys\n",
    "from selenium.webdriver.common.by import By\n",
    "from selenium.webdriver.chrome.options import Options\n",
    "from selenium.webdriver.common.action_chains import ActionChains \n",
    "#from selenium.webdriver.support.ui import WebDriverWait\n",
    "#from selenium.webdriver.support import expected_conditions as EC\n",
    "from joblib import Parallel, delayed\n",
    "import random\n",
    "#from fake_useragent import UserAgent\n",
    "\n",
    "opciones=Options()\n",
    "\n",
    "opciones.add_experimental_option('excludeSwitches', ['enable-automation'])\n",
    "opciones.add_experimental_option('useAutomationExtension', False)\n",
    "opciones.headless=False    # si True, no aperece la ventana (headless=no visible)\n",
    "opciones.add_argument('--start-maximized')         # comienza maximizado\n",
    "opciones.add_argument('user-data-dir=selenium')    # mantiene las cookies\n",
    "#opciones.add_extension('driver_folder/adblock.crx')       # adblocker\n",
    "opciones.add_argument('--incognito')\n",
    "opciones.add_argument(\"window-size=1280,1024\")\n",
    "\n",
    "PATH = \"../../chromedriver/chromedriver.exe\" #remember substitute this for your driver path\n",
    "\n",
    "from sqlalchemy import create_engine"
   ]
  },
  {
   "cell_type": "markdown",
   "id": "46aa38af",
   "metadata": {},
   "source": [
    "## Diccionarios"
   ]
  },
  {
   "cell_type": "code",
   "execution_count": 2,
   "id": "1de0122e",
   "metadata": {},
   "outputs": [],
   "source": [
    "### Leyenda ###\n",
    "acceder_spo={\n",
    "    'cookies':'//*[@id=\"onetrust-accept-btn-handler\"]',\n",
    "    'inis-spo': '//*[@id=\"main\"]/div/div[2]/div[1]/header/div[5]/button[2]/span',\n",
    "    'username-login': '//*[@id=\"login-username\"]',\n",
    "    'pass-login':'//*[@id=\"login-password\"]',\n",
    "    'inis-login':'//*[@id=\"login-button\"]/div[1]'    \n",
    "}\n",
    "nav_spo={\n",
    "    'btn-like':'//*[@id=\"main\"]/div/div[2]/nav/div[1]/div[2]/div/div[2]/a'\n",
    "}\n",
    "elements_like_list={\n",
    "    'cn_encabezados_tabla':'dZPmmYYhskhqHJCAruvI.wTUruPetkKdWAR1dd6w4',\n",
    "    'cn_cancion':'h4HgbO_Uu1JYg5UGANeQ.wTUruPetkKdWAR1dd6w4',\n",
    "    'cn_total_canciones':'Fb61sprjhh75aOITDnsJ'\n",
    "}\n",
    "elements_search={\n",
    "    'cn_artist':'artistname',\n",
    "    'cn_follows_category':'note'\n",
    "}\n",
    "#butler = WebDriverWait(driver,10) #Da timeout a los 10 segundos pero si puede ejecuta antes"
   ]
  },
  {
   "cell_type": "markdown",
   "id": "48fde875",
   "metadata": {},
   "source": [
    "### Conexion a Spotify"
   ]
  },
  {
   "cell_type": "code",
   "execution_count": 3,
   "id": "3ad2a755",
   "metadata": {},
   "outputs": [],
   "source": [
    "with open(\"pass/txtfile.txt\") as archivo:\n",
    "    user_line = archivo.readline().rstrip('\\n')\n",
    "    pswrd_line = archivo.readline().rstrip('\\n')"
   ]
  },
  {
   "cell_type": "markdown",
   "id": "4b4912b6",
   "metadata": {},
   "source": [
    "## Funciones"
   ]
  },
  {
   "cell_type": "code",
   "execution_count": 4,
   "id": "b3c124f9",
   "metadata": {},
   "outputs": [],
   "source": [
    "def start(url):\n",
    "    #-------Entrando en spotify --------\n",
    "    driver.get(url)\n",
    "    time.sleep(random.randint(7,10))\n",
    "    driver.find_element(By.XPATH, acceder_spo['cookies']).click()  # acepta coockies\n",
    "    driver.find_element(By.XPATH, acceder_spo['inis-spo']).click()  # pulsa iniciar sesion spoty\n",
    "    time.sleep(random.randint(7,9))\n",
    "    element=driver.find_element(By.XPATH, acceder_spo['username-login'])\n",
    "    element.click()  \n",
    "    element.send_keys(user_line, Keys.TAB, pswrd_line, Keys.ENTER) #Entra login y passwrd\n",
    "    #driver.find_element_by_xpath(acceder_spo['pass-login']).click()  #No hace falta \n",
    "    time.sleep(random.randint(7,9))"
   ]
  },
  {
   "cell_type": "code",
   "execution_count": 5,
   "id": "5bc0e7c6",
   "metadata": {},
   "outputs": [],
   "source": [
    "def scroll_dwn():\n",
    "    action = ActionChains(driver) \n",
    "    action.key_down(Keys.LEFT_ALT).send_keys(Keys.ARROW_DOWN,Keys.ARROW_DOWN,Keys.ARROW_DOWN).key_up(Keys.LEFT_ALT).perform() "
   ]
  },
  {
   "cell_type": "code",
   "execution_count": 6,
   "id": "a7e9efe2",
   "metadata": {},
   "outputs": [],
   "source": [
    "def resize_window(num):\n",
    "    driver.execute_script(f\"document.body.style.zoom='{num}%'\")"
   ]
  },
  {
   "cell_type": "code",
   "execution_count": 7,
   "id": "f54821a5",
   "metadata": {},
   "outputs": [],
   "source": [
    "def return_encabezados():\n",
    "    encabezados=driver.find_element(By.CLASS_NAME,elements_like_list['cn_encabezados_tabla'])\n",
    "    return encabezados.text"
   ]
  },
  {
   "cell_type": "code",
   "execution_count": 8,
   "id": "4e158712",
   "metadata": {},
   "outputs": [],
   "source": [
    "def return_canciones():\n",
    "    \n",
    "    lista_canciones = []\n",
    "    num_total = int(driver.find_element(By.CLASS_NAME,elements_like_list['cn_total_canciones']).text.split('\\n')[1].split(' ')[0])-33\n",
    "    \n",
    "    resize_window(60)\n",
    "    \n",
    "    #---1º Iteracion ---#\n",
    "    canciones=driver.find_elements(By.CLASS_NAME,elements_like_list['cn_cancion'])  \n",
    "    canciones=[e.text for e in canciones]\n",
    "    lista_canciones.append(canciones)\n",
    "    \n",
    "    #---Resto de iteraciones ---#\n",
    "    for _ in range((num_total//57)+1):\n",
    "        scroll_dwn()\n",
    "        time.sleep(random.randint(1,2))\n",
    "        canciones=driver.find_elements(By.CLASS_NAME,elements_like_list['cn_cancion'])  \n",
    "        canciones=[e.text for e in canciones]\n",
    "        lista_canciones.append(canciones)\n",
    "        \n",
    "    resize_window(100)\n",
    "\n",
    "    return lista_canciones"
   ]
  },
  {
   "cell_type": "code",
   "execution_count": 9,
   "id": "3c18e64a",
   "metadata": {},
   "outputs": [],
   "source": [
    "def nav_like_list():\n",
    "    \n",
    "    driver.find_element(By.XPATH, nav_spo['btn-like']).click()  # Entra en like list\n",
    "    time.sleep(4)\n",
    "    \n",
    "    encabezados = return_encabezados()\n",
    "    canciones = return_canciones()\n",
    "    \n",
    "    return [encabezados, canciones]"
   ]
  },
  {
   "cell_type": "code",
   "execution_count": 10,
   "id": "16d5a49f",
   "metadata": {},
   "outputs": [],
   "source": [
    "def norm_canciones(data):\n",
    "\n",
    "    #---Encabezados---# #OK\n",
    "    data[0] = data[0]+'\\nDURACIÓN'\n",
    "    data[0] = data[0].split('\\n')\n",
    "    data[0].insert(2,'EXPLICIT')\n",
    "    data[0].insert(3,'GRUPO')\n",
    "\n",
    "    #---Canciones---# #OK\n",
    "    for ind, lista in enumerate(data[1]):\n",
    "        for ind2, cancion in enumerate(lista):\n",
    "            if cancion.count('\\n') == 5:\n",
    "                data[1][ind][ind2] = cancion.split('\\n')\n",
    "                data[1][ind][ind2].insert(2,'Not E')\n",
    "            else:\n",
    "                data[1][ind][ind2] = cancion.split('\\n')\n",
    "\n",
    "    #---Quitar niveles---# #OK\n",
    "    aux = []\n",
    "    for grupo in data[1]:\n",
    "        for lista_cancion in grupo:\n",
    "            aux.append(lista_cancion)\n",
    "    data[1] = aux\n",
    "\n",
    "    return data"
   ]
  },
  {
   "cell_type": "markdown",
   "id": "0087688f",
   "metadata": {},
   "source": [
    "## Inicio"
   ]
  },
  {
   "cell_type": "code",
   "execution_count": 11,
   "id": "e32676b9",
   "metadata": {},
   "outputs": [],
   "source": [
    "URL_BASE='https://open.spotify.com/'\n",
    "URL_BASE_2= 'https://everynoise.com/research.cgi?mode=name&name=' #Espacios entre nombres con '+'\n",
    "\n",
    "driver = webdriver.Chrome(service=Service(ChromeDriverManager().install()), options = opciones) #Listo para iniciar\n",
    "\n",
    "start(URL_BASE)\n",
    "data = nav_like_list()\n",
    "\n",
    "driver.close()"
   ]
  },
  {
   "cell_type": "code",
   "execution_count": 12,
   "id": "4e8c96e1",
   "metadata": {},
   "outputs": [],
   "source": [
    "data = norm_canciones(data)"
   ]
  },
  {
   "cell_type": "code",
   "execution_count": 13,
   "id": "416d6fdf",
   "metadata": {},
   "outputs": [
    {
     "data": {
      "text/html": [
       "<div>\n",
       "<style scoped>\n",
       "    .dataframe tbody tr th:only-of-type {\n",
       "        vertical-align: middle;\n",
       "    }\n",
       "\n",
       "    .dataframe tbody tr th {\n",
       "        vertical-align: top;\n",
       "    }\n",
       "\n",
       "    .dataframe thead th {\n",
       "        text-align: right;\n",
       "    }\n",
       "</style>\n",
       "<table border=\"1\" class=\"dataframe\">\n",
       "  <thead>\n",
       "    <tr style=\"text-align: right;\">\n",
       "      <th></th>\n",
       "      <th>#</th>\n",
       "      <th>TÍTULO</th>\n",
       "      <th>EXPLICIT</th>\n",
       "      <th>GRUPO</th>\n",
       "      <th>ÁLBUM</th>\n",
       "      <th>FECHA INCORPORACIÓN</th>\n",
       "      <th>DURACIÓN</th>\n",
       "    </tr>\n",
       "  </thead>\n",
       "  <tbody>\n",
       "    <tr>\n",
       "      <th>0</th>\n",
       "      <td>1</td>\n",
       "      <td>All Star</td>\n",
       "      <td>Not E</td>\n",
       "      <td>Smash Mouth</td>\n",
       "      <td>Shrek</td>\n",
       "      <td>hace 3 horas</td>\n",
       "      <td>3:20</td>\n",
       "    </tr>\n",
       "    <tr>\n",
       "      <th>1</th>\n",
       "      <td>2</td>\n",
       "      <td>Chew Me Up (feat. Terrible Johnny)</td>\n",
       "      <td>Not E</td>\n",
       "      <td>Saint Asonia, Terrible Johnny</td>\n",
       "      <td>Introvert</td>\n",
       "      <td>hace 1 día</td>\n",
       "      <td>3:39</td>\n",
       "    </tr>\n",
       "    <tr>\n",
       "      <th>2</th>\n",
       "      <td>3</td>\n",
       "      <td>Bury Me Alive</td>\n",
       "      <td>Not E</td>\n",
       "      <td>Throw The Fight</td>\n",
       "      <td>Transmissions</td>\n",
       "      <td>hace 1 día</td>\n",
       "      <td>3:46</td>\n",
       "    </tr>\n",
       "    <tr>\n",
       "      <th>3</th>\n",
       "      <td>4</td>\n",
       "      <td>Deliver Me</td>\n",
       "      <td>Not E</td>\n",
       "      <td>Parkway Drive</td>\n",
       "      <td>Deep Blue</td>\n",
       "      <td>hace 1 día</td>\n",
       "      <td>4:13</td>\n",
       "    </tr>\n",
       "    <tr>\n",
       "      <th>4</th>\n",
       "      <td>5</td>\n",
       "      <td>Deliver Me</td>\n",
       "      <td>Not E</td>\n",
       "      <td>Seether</td>\n",
       "      <td>Si Vis Pacem, Para Bellum (Deluxe Edition)</td>\n",
       "      <td>hace 1 día</td>\n",
       "      <td>3:46</td>\n",
       "    </tr>\n",
       "  </tbody>\n",
       "</table>\n",
       "</div>"
      ],
      "text/plain": [
       "   #                              TÍTULO EXPLICIT  \\\n",
       "0  1                            All Star    Not E   \n",
       "1  2  Chew Me Up (feat. Terrible Johnny)    Not E   \n",
       "2  3                       Bury Me Alive    Not E   \n",
       "3  4                          Deliver Me    Not E   \n",
       "4  5                          Deliver Me    Not E   \n",
       "\n",
       "                           GRUPO                                       ÁLBUM  \\\n",
       "0                    Smash Mouth                                       Shrek   \n",
       "1  Saint Asonia, Terrible Johnny                                   Introvert   \n",
       "2                Throw The Fight                               Transmissions   \n",
       "3                  Parkway Drive                                   Deep Blue   \n",
       "4                        Seether  Si Vis Pacem, Para Bellum (Deluxe Edition)   \n",
       "\n",
       "  FECHA INCORPORACIÓN DURACIÓN  \n",
       "0        hace 3 horas     3:20  \n",
       "1          hace 1 día     3:39  \n",
       "2          hace 1 día     3:46  \n",
       "3          hace 1 día     4:13  \n",
       "4          hace 1 día     3:46  "
      ]
     },
     "execution_count": 13,
     "metadata": {},
     "output_type": "execute_result"
    }
   ],
   "source": [
    "df = pd.DataFrame(data[1],columns=data[0])\n",
    "df.head()"
   ]
  },
  {
   "cell_type": "markdown",
   "id": "2a9f7d47",
   "metadata": {},
   "source": [
    "### Limpieza de DF Liked Songs "
   ]
  },
  {
   "cell_type": "code",
   "execution_count": 15,
   "id": "f62cb88a",
   "metadata": {},
   "outputs": [],
   "source": [
    "def format_date(str_date):\n",
    "    \n",
    "    def es_bisiesto(anio: int) -> bool:\n",
    "        return anio % 4 == 0 and (anio % 100 != 0 or anio % 400 == 0)\n",
    "\n",
    "    def obtener_dias_del_mes(mes: int, anio: int) -> int:\n",
    "        # Abril, junio, septiembre y noviembre tienen 30\n",
    "        if mes in [4, 6, 9, 11]:\n",
    "            return 30\n",
    "        # Febrero depende de si es o no bisiesto\n",
    "        if mes == 2:\n",
    "            if es_bisiesto(anio):\n",
    "                return 29\n",
    "            else:\n",
    "                return 28\n",
    "        else:\n",
    "            # En caso contrario, tiene 31 días\n",
    "            return 31\n",
    "    \n",
    "    months = {\"ene\":'01', \"feb\":'02', \"mar\":'03', \"abr\":'04', \"may\":'05', \"jun\":'06', \"jul\":'07', \"ago\":'08',\n",
    "              \"sept\":'09', \"oct\":'10', \"nov\":'11', \"dic\":'12'}\n",
    "    \n",
    "    if str_date.split(' ')[2].isalpha() == True:\n",
    "        if 'día' in str_date.split(' ')[2] or 'dias' in str_date.split(' ')[2]:\n",
    "            if datetime.now().day - int(str_date.split(' ')[1]) > 0:\n",
    "                year = datetime.now().year\n",
    "                month = datetime.now().month\n",
    "                days = datetime.now().day - int(str_date.split(' ')[1])\n",
    "            else:\n",
    "                if datetime.now().month - 1 > 0:\n",
    "                    year = datetime.now().year\n",
    "                    month = datetime.now().month-1\n",
    "                    days = obtener_dias_del_mes(datetime.now().month-1,datetime.now().year) - int(str_date.split(' ')[1])\n",
    "                else:      \n",
    "                    year = datetime.now().year-1\n",
    "                    month = 12\n",
    "                    days = obtener_dias_del_mes(12,datetime.now().year-1) - int(str_date.split(' ')[1])\n",
    "        else:\n",
    "            year = datetime.now().year\n",
    "            month = datetime.now().month\n",
    "            days = datetime.now().day\n",
    "    else:\n",
    "        year = str_date.split(' ')[2]\n",
    "        month = months[str_date.split(' ')[1]]\n",
    "        days = str_date.split(' ')[0]\n",
    "        \n",
    "    return str(year)+'-'+str(month)+'-'+str(days)"
   ]
  },
  {
   "cell_type": "code",
   "execution_count": 16,
   "id": "647b894f",
   "metadata": {},
   "outputs": [],
   "source": [
    "def downcast_types(df):\n",
    "    for columna in df.select_dtypes('object').columns: \n",
    "        df[columna]=df[columna].astype('category')\n",
    "    for columna in df.select_dtypes(np.number).columns: \n",
    "        df[columna]=pd.to_numeric(df[columna], downcast='integer')"
   ]
  },
  {
   "cell_type": "code",
   "execution_count": 17,
   "id": "0c52bb9a",
   "metadata": {},
   "outputs": [],
   "source": [
    "df.drop('#', axis=1, inplace=True)\n",
    "df.drop_duplicates(inplace=True,ignore_index=True)"
   ]
  },
  {
   "cell_type": "code",
   "execution_count": 18,
   "id": "2724f0b3",
   "metadata": {},
   "outputs": [],
   "source": [
    "##---Damos el formato deseado a las fechas---##\n",
    "df['FECHA INCORPORACIÓN'] = df['FECHA INCORPORACIÓN'].map(format_date)"
   ]
  },
  {
   "cell_type": "code",
   "execution_count": 19,
   "id": "2563dc41",
   "metadata": {},
   "outputs": [],
   "source": [
    "##---Eliminamos duplicados---##\n",
    "df['Titulo_y_grupo']= df['TÍTULO']+df['GRUPO']\n",
    "df.drop_duplicates(subset=['Titulo_y_grupo'], inplace=True, ignore_index=True)\n",
    "df.drop('Titulo_y_grupo', axis=1,inplace=True)"
   ]
  },
  {
   "cell_type": "markdown",
   "id": "d98164f7",
   "metadata": {},
   "source": [
    "## Escrapeo de NoiseAtOnce"
   ]
  },
  {
   "cell_type": "code",
   "execution_count": 21,
   "id": "a3e4ca7f",
   "metadata": {},
   "outputs": [],
   "source": [
    "def search_grupo(url):\n",
    "    try:\n",
    "\n",
    "        driver = webdriver.Chrome(service=Service(ChromeDriverManager().install())) #Listo para iniciar\n",
    "        driver.get(url)\n",
    "\n",
    "        time.sleep(random.randint(6,19))\n",
    "\n",
    "        artista = driver.find_element(By.CLASS_NAME, elements_search['cn_artist']).text\n",
    "        if artista == '':\n",
    "            artista = random.random()\n",
    "            \n",
    "        lst_follows_category = driver.find_elements(By.CLASS_NAME, elements_search['cn_follows_category'])[0:5]\n",
    "        lst_follows_category = [e.text for e in lst_follows_category][1:3]\n",
    "        if lst_follows_category[0]==' ':\n",
    "            lst_follows_category[0]='Unknown'\n",
    "        if lst_follows_category[1]==' ':\n",
    "            lst_follows_category[1]='Unknown'\n",
    "\n",
    "        driver.quit()\n",
    "        \n",
    "        return {artista:lst_follows_category}\n",
    "        \n",
    "    except:\n",
    "        pass"
   ]
  },
  {
   "cell_type": "code",
   "execution_count": 22,
   "id": "fc913232",
   "metadata": {},
   "outputs": [],
   "source": [
    "#---Sacamos los grupos únicos---#\n",
    "aux_grupos = []\n",
    "for ind, elemento in enumerate(df.GRUPO):\n",
    "    aux_grupos.append(df.GRUPO[ind].split(','))\n",
    "\n",
    "aux = []\n",
    "for lista in aux_grupos:\n",
    "    for unico in lista:\n",
    "        aux.append(unico.strip())\n",
    "        \n",
    "list_grupos_unicos = list(set(aux))"
   ]
  },
  {
   "cell_type": "code",
   "execution_count": 23,
   "id": "469c9c54",
   "metadata": {},
   "outputs": [],
   "source": [
    "#---Generamos enlaces de consulta---#\n",
    "enlaces=[]\n",
    "\n",
    "for artista in list_grupos_unicos:\n",
    "    artista = artista.replace(\" \",\"+\")\n",
    "    enlaces.append(URL_BASE_2+artista)\n",
    "    \n",
    "#enlaces = list(set(enlaces)) Los artistas son únicos ya, no necesitamos esto"
   ]
  },
  {
   "cell_type": "code",
   "execution_count": 24,
   "id": "bbeeff90",
   "metadata": {},
   "outputs": [
    {
     "name": "stderr",
     "output_type": "stream",
     "text": [
      "[Parallel(n_jobs=5)]: Using backend LokyBackend with 5 concurrent workers.\n",
      "[Parallel(n_jobs=5)]: Done  40 tasks      | elapsed:  4.5min\n",
      "[Parallel(n_jobs=5)]: Done 190 tasks      | elapsed: 16.4min\n",
      "[Parallel(n_jobs=5)]: Done 440 tasks      | elapsed: 34.1min\n",
      "[Parallel(n_jobs=5)]: Done 790 tasks      | elapsed: 60.2min\n",
      "[Parallel(n_jobs=5)]: Done 1151 out of 1151 | elapsed: 88.1min finished\n"
     ]
    }
   ],
   "source": [
    "#---Generamos lista de dictionarios---#\n",
    "\n",
    "lst=Parallel(n_jobs=5, verbose=True)(delayed(search_grupo)(e) for e in enlaces)"
   ]
  },
  {
   "cell_type": "code",
   "execution_count": 64,
   "id": "1e5b4fa8",
   "metadata": {},
   "outputs": [
    {
     "data": {
      "text/plain": [
       "[{'Muse': ['7,158,781 followers', 'modern rock, permanent wave, rock']},\n",
       " {'Ghost': ['1,572,838 followers', 'hard rock, metal']},\n",
       " {'Ensiferum': ['276,543 followers',\n",
       "   'finnish melodeath, finnish metal, folk metal, melodic death metal, metal, nordic folk metal, power metal, viking metal']},\n",
       " {'With Confidence': ['155,848 followers', 'modern rock, pixie, pop punk']},\n",
       " {'Season to Attack': ['3,068 followers', 'Unknown']}]"
      ]
     },
     "execution_count": 64,
     "metadata": {},
     "output_type": "execute_result"
    }
   ],
   "source": [
    "lst[:5] #Resultado de buscar las categorias/followers"
   ]
  },
  {
   "cell_type": "code",
   "execution_count": 26,
   "id": "aa062b11",
   "metadata": {},
   "outputs": [
    {
     "data": {
      "text/plain": [
       "[]"
      ]
     },
     "execution_count": 26,
     "metadata": {},
     "output_type": "execute_result"
    }
   ],
   "source": [
    "#---Saco los nulos---#\n",
    "aux = []\n",
    "for ind,e in enumerate(lst):\n",
    "    aux_2=[]\n",
    "    if e == None:\n",
    "        aux_2.append(ind)\n",
    "        aux_2.append(e)\n",
    "        aux.append(aux_2)\n",
    "aux"
   ]
  },
  {
   "cell_type": "code",
   "execution_count": 27,
   "id": "d8ba3fa2",
   "metadata": {},
   "outputs": [],
   "source": [
    "for element in aux:\n",
    "    lst.pop(element[0]) #Elimino el/los nulos"
   ]
  },
  {
   "cell_type": "code",
   "execution_count": 28,
   "id": "fdb465ca",
   "metadata": {},
   "outputs": [],
   "source": [
    "grupos = df.GRUPO.unique()"
   ]
  },
  {
   "cell_type": "code",
   "execution_count": 29,
   "id": "a820e7f5",
   "metadata": {},
   "outputs": [],
   "source": [
    "#---Sacamos 2 listas con cada parte de cada grupo---#\n",
    "followers = []\n",
    "categories = []\n",
    "for grupo in grupos:\n",
    "    i = 0\n",
    "    encontrado = False\n",
    "    while i < len(lst) and encontrado == False:\n",
    "        aux=[]\n",
    "        if grupo in lst[i]:\n",
    "            \n",
    "            encontrado = True\n",
    "            \n",
    "            aux.append(grupo)\n",
    "            aux.append(lst[i][grupo][0])\n",
    "            followers.append(aux)\n",
    "            aux = []\n",
    "            aux.append(grupo)\n",
    "            aux.append(lst[i][grupo][1])\n",
    "            categories.append(aux)\n",
    "        else:\n",
    "            i+=1\n",
    "\n",
    "#---Limpiamos los casos que tenemos sin categorias---#\n",
    "for ind, lista in enumerate(categories):\n",
    "    if 'followers' in lista[1]:\n",
    "        categories[ind][1]= ''"
   ]
  },
  {
   "cell_type": "code",
   "execution_count": 30,
   "id": "d462dbf0",
   "metadata": {},
   "outputs": [],
   "source": [
    "#---Generamos los dataframes para categorias y followers---#\n",
    "\n",
    "df_2 = pd.DataFrame(followers,columns=['grupo','followers'])\n",
    "df_3 = pd.DataFrame(categories,columns=['grupo', 'categories'])"
   ]
  },
  {
   "cell_type": "markdown",
   "id": "8524cccf",
   "metadata": {},
   "source": [
    "### Limpieza de DF_2 y DF_3"
   ]
  },
  {
   "cell_type": "code",
   "execution_count": 65,
   "id": "954be8c9",
   "metadata": {},
   "outputs": [
    {
     "data": {
      "text/html": [
       "<div>\n",
       "<style scoped>\n",
       "    .dataframe tbody tr th:only-of-type {\n",
       "        vertical-align: middle;\n",
       "    }\n",
       "\n",
       "    .dataframe tbody tr th {\n",
       "        vertical-align: top;\n",
       "    }\n",
       "\n",
       "    .dataframe thead th {\n",
       "        text-align: right;\n",
       "    }\n",
       "</style>\n",
       "<table border=\"1\" class=\"dataframe\">\n",
       "  <thead>\n",
       "    <tr style=\"text-align: right;\">\n",
       "      <th></th>\n",
       "      <th>grupo</th>\n",
       "      <th>followers</th>\n",
       "    </tr>\n",
       "  </thead>\n",
       "  <tbody>\n",
       "    <tr>\n",
       "      <th>0</th>\n",
       "      <td>Smash Mouth</td>\n",
       "      <td>882083.0</td>\n",
       "    </tr>\n",
       "    <tr>\n",
       "      <th>1</th>\n",
       "      <td>Throw The Fight</td>\n",
       "      <td>44646.0</td>\n",
       "    </tr>\n",
       "    <tr>\n",
       "      <th>2</th>\n",
       "      <td>Parkway Drive</td>\n",
       "      <td>932739.0</td>\n",
       "    </tr>\n",
       "    <tr>\n",
       "      <th>3</th>\n",
       "      <td>Seether</td>\n",
       "      <td>2914752.0</td>\n",
       "    </tr>\n",
       "    <tr>\n",
       "      <th>4</th>\n",
       "      <td>Beartooth</td>\n",
       "      <td>600734.0</td>\n",
       "    </tr>\n",
       "  </tbody>\n",
       "</table>\n",
       "</div>"
      ],
      "text/plain": [
       "             grupo  followers\n",
       "0      Smash Mouth   882083.0\n",
       "1  Throw The Fight    44646.0\n",
       "2    Parkway Drive   932739.0\n",
       "3          Seether  2914752.0\n",
       "4        Beartooth   600734.0"
      ]
     },
     "execution_count": 65,
     "metadata": {},
     "output_type": "execute_result"
    }
   ],
   "source": [
    "df_2.head()"
   ]
  },
  {
   "cell_type": "code",
   "execution_count": 32,
   "id": "62aa41ce",
   "metadata": {},
   "outputs": [],
   "source": [
    "for ind, e in enumerate(df_2.followers):\n",
    "    df_2.followers[ind] = df_2.followers[ind].split(' ')[0]\n",
    "    \n",
    "for ind, e in enumerate(df_2.followers):\n",
    "    df_2.followers[ind] = df_2.followers[ind].replace(',','')\n",
    "\n",
    "#Limpiamos followers"
   ]
  },
  {
   "cell_type": "code",
   "execution_count": 33,
   "id": "6edb8b42",
   "metadata": {},
   "outputs": [],
   "source": [
    "for ind, e in enumerate(df_2.followers):\n",
    "    df_2.followers[ind] = df_2.followers[ind].replace('Unknown','')\n",
    "df_2.followers = pd.to_numeric(df_2.followers)"
   ]
  },
  {
   "cell_type": "markdown",
   "id": "c5d87f06",
   "metadata": {},
   "source": [
    "## Generación del DF_4 y limpieza"
   ]
  },
  {
   "cell_type": "code",
   "execution_count": 34,
   "id": "180a2090",
   "metadata": {},
   "outputs": [],
   "source": [
    "####---Ultima fuente importada---####\n",
    "df_4 = pd.read_csv('data/songs_normalize.csv') #Importado de kaggle"
   ]
  },
  {
   "cell_type": "code",
   "execution_count": 39,
   "id": "0a0a74f1",
   "metadata": {},
   "outputs": [],
   "source": [
    "df_4 = df_4[['artist','song','year','popularity','genre']]"
   ]
  },
  {
   "cell_type": "code",
   "execution_count": 40,
   "id": "19ac3694",
   "metadata": {},
   "outputs": [],
   "source": [
    "#---Normalizamos titulos---#\n",
    "df.columns = ['titulo', 'explicit', 'grupo', 'album', 'fecha_incorporacion',\n",
    "       'duracion']\n",
    "df_4.columns = ['grupo', 'titulo', 'anio', 'popularity', 'genre']"
   ]
  },
  {
   "cell_type": "code",
   "execution_count": 41,
   "id": "bd8cfc54",
   "metadata": {},
   "outputs": [],
   "source": [
    "df_4=df_4.drop_duplicates()"
   ]
  },
  {
   "cell_type": "code",
   "execution_count": 42,
   "id": "41c47e58",
   "metadata": {},
   "outputs": [
    {
     "name": "stderr",
     "output_type": "stream",
     "text": [
      "/var/folders/3c/7ck2gwm96w571b2x4_6726_40000gn/T/ipykernel_1343/3052535487.py:1: FutureWarning: The frame.append method is deprecated and will be removed from pandas in a future version. Use pandas.concat instead.\n",
      "  listado_grupos = pd.DataFrame.append(df,df_4)['grupo'].unique()\n"
     ]
    }
   ],
   "source": [
    "listado_grupos = pd.DataFrame.append(df,df_4)['grupo'].unique()\n",
    "listado_grupos = pd.DataFrame(listado_grupos,columns=['grupo'])\n",
    "listado_grupos.columns=['grupo']\n",
    "\n",
    "#---4º DF listo para subir a SQL---#"
   ]
  },
  {
   "cell_type": "code",
   "execution_count": 43,
   "id": "83f8d4d7",
   "metadata": {},
   "outputs": [],
   "source": [
    "#---Cambiamos tipos de datos---#\n",
    "df['fecha_incorporacion'] = pd.to_datetime(df['fecha_incorporacion'])\n",
    "downcast_types(df)\n",
    "downcast_types(df_2)\n",
    "downcast_types(df_3)\n",
    "downcast_types(df_4)\n",
    "downcast_types(listado_grupos)"
   ]
  },
  {
   "cell_type": "markdown",
   "id": "409e59e3",
   "metadata": {},
   "source": [
    "## Traspaso a SQL"
   ]
  },
  {
   "cell_type": "code",
   "execution_count": 44,
   "id": "4974ea90",
   "metadata": {},
   "outputs": [],
   "source": [
    "#### CONEXION ####\n",
    "\n",
    "with open(\"pass/password.txt\") as archivo:\n",
    "    host_line = archivo.readline().rstrip('\\n')\n",
    "    user_line = archivo.readline().rstrip('\\n')\n",
    "    passwd_line = archivo.readline().rstrip('\\n')"
   ]
  },
  {
   "cell_type": "code",
   "execution_count": 51,
   "id": "dfda3754",
   "metadata": {},
   "outputs": [
    {
     "data": {
      "text/plain": [
       "<sqlalchemy.engine.cursor.LegacyCursorResult at 0x7fc097208d30>"
      ]
     },
     "execution_count": 51,
     "metadata": {},
     "output_type": "execute_result"
    }
   ],
   "source": [
    "#### CREAMOS UNA NUEVA BASE DE DATOS ####\n",
    "\n",
    "str_conn='mysql+pymysql://'+user_line+':'+passwd_line+'@'+host_line+':3306'\n",
    "nombre_nuevabbdd = 'scrapify'\n",
    "\n",
    "cursor=create_engine(str_conn)\n",
    "\n",
    "cursor.execute(f'drop database if exists {nombre_nuevabbdd};')\n",
    "cursor.execute(f'create database {nombre_nuevabbdd};')"
   ]
  },
  {
   "cell_type": "code",
   "execution_count": 59,
   "id": "49fdefbd",
   "metadata": {},
   "outputs": [],
   "source": [
    "#### GENERAMOS LAS TABLAS DE SQL ####\n",
    "\n",
    "str_conn='mysql+pymysql://'+user_line+':'+passwd_line+'@'+host_line+':3306'+f'/{nombre_nuevabbdd}'\n",
    "\n",
    "cursor=create_engine(str_conn)\n",
    "\n",
    "dict_files={\n",
    "    'liked_songs':df,\n",
    "    'followers':df_2,\n",
    "    'categories':df_3,\n",
    "    'top_songs':df_4,\n",
    "    'ids':listado_grupos\n",
    "}\n",
    "\n",
    "for element in dict_files:\n",
    "    dict_files[element].to_sql(name=element, con=cursor, if_exists='replace', index=False)"
   ]
  },
  {
   "cell_type": "code",
   "execution_count": 61,
   "id": "4d0fcc25",
   "metadata": {},
   "outputs": [],
   "source": [
    "#### CREAMOS CONEXIONES ####\n",
    "\n",
    "lista_querys = [\n",
    "    'ALTER TABLE `scrapify`.`ids` CHANGE COLUMN `grupo` `grupo` VARCHAR(120) NOT NULL ,ADD PRIMARY KEY (`grupo`);;',\n",
    "    'ALTER TABLE `scrapify`.`categories` CHANGE COLUMN `grupo` `grupo` VARCHAR(120) NULL DEFAULT NULL ,ADD INDEX `grupo_idx` (`grupo` ASC) VISIBLE;;',\n",
    "    'ALTER TABLE `scrapify`.`categories` ADD CONSTRAINT `grupo`  FOREIGN KEY (`grupo`)  REFERENCES `scrapify`.`ids` (`grupo`)  ON DELETE NO ACTION  ON UPDATE NO ACTION;',\n",
    "    'ALTER TABLE `scrapify`.`followers` CHANGE COLUMN `grupo` `grupo` VARCHAR(120) NULL DEFAULT NULL ,ADD INDEX `grupo_2_idx` (`grupo` ASC) VISIBLE;;',\n",
    "    'ALTER TABLE `scrapify`.`followers` ADD CONSTRAINT `grupo_2`  FOREIGN KEY (`grupo`)  REFERENCES `scrapify`.`ids` (`grupo`)  ON DELETE NO ACTION  ON UPDATE NO ACTION;',\n",
    "    'ALTER TABLE `scrapify`.`liked_songs` CHANGE COLUMN `grupo` `grupo` VARCHAR(120) NULL DEFAULT NULL ,ADD INDEX `grupo_3_idx` (`grupo` ASC) VISIBLE;;',\n",
    "    'ALTER TABLE `scrapify`.`liked_songs` ADD CONSTRAINT `grupo_3`  FOREIGN KEY (`grupo`)  REFERENCES `scrapify`.`ids` (`grupo`)  ON DELETE NO ACTION  ON UPDATE NO ACTION;',\n",
    "    'ALTER TABLE `scrapify`.`top_songs` CHANGE COLUMN `grupo` `grupo` VARCHAR(120) NULL DEFAULT NULL ,ADD INDEX `grupo_4_idx` (`grupo` ASC) VISIBLE;;',\n",
    "    'ALTER TABLE `scrapify`.`top_songs` ADD CONSTRAINT `grupo_4`  FOREIGN KEY (`grupo`)  REFERENCES `scrapify`.`ids` (`grupo`)  ON DELETE NO ACTION  ON UPDATE NO ACTION;'\n",
    "               ]\n",
    "\n",
    "for query in lista_querys:\n",
    "    cursor.execute(query)"
   ]
  }
 ],
 "metadata": {
  "kernelspec": {
   "display_name": "Python 3 (ipykernel)",
   "language": "python",
   "name": "python3"
  },
  "language_info": {
   "codemirror_mode": {
    "name": "ipython",
    "version": 3
   },
   "file_extension": ".py",
   "mimetype": "text/x-python",
   "name": "python",
   "nbconvert_exporter": "python",
   "pygments_lexer": "ipython3",
   "version": "3.9.12"
  }
 },
 "nbformat": 4,
 "nbformat_minor": 5
}
